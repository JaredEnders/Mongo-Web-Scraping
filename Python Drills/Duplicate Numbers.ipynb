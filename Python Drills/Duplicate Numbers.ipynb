{
 "cells": [
  {
   "cell_type": "code",
   "execution_count": 18,
   "metadata": {},
   "outputs": [
    {
     "name": "stdout",
     "output_type": "stream",
     "text": [
      "[6, 3]\n",
      "Counter({3: 3, 6: 2, 1: 1, 4: 1})\n"
     ]
    }
   ],
   "source": [
    "## Print all numbers with duplicates\n",
    "# Dependencies\n",
    "import collections\n",
    "\n",
    "# Starting list\n",
    "numbers = [1, 6, 6, 3, 3, 3, 4]\n",
    "\n",
    "# Finding and printing the duplicates\n",
    "duplicates = print([item for item, count in collections.Counter(numbers).items() if count > 1])\n",
    "\n",
    "# Finding count of duplicates\n",
    "from collections import Counter\n",
    "c = Counter(numbers)\n",
    "print(c)"
   ]
  },
  {
   "cell_type": "code",
   "execution_count": 13,
   "metadata": {},
   "outputs": [
    {
     "name": "stdout",
     "output_type": "stream",
     "text": [
      "[1, 4]\n"
     ]
    }
   ],
   "source": [
    "## Print only the numbers that were seen once\n",
    "# Set count equal to 1\n",
    "print([item for item, count in collections.Counter(numbers).items() if count == 1])"
   ]
  }
 ],
 "metadata": {
  "kernelspec": {
   "display_name": "Python 3",
   "language": "python",
   "name": "python3"
  },
  "language_info": {
   "codemirror_mode": {
    "name": "ipython",
    "version": 3
   },
   "file_extension": ".py",
   "mimetype": "text/x-python",
   "name": "python",
   "nbconvert_exporter": "python",
   "pygments_lexer": "ipython3",
   "version": "3.8.3"
  }
 },
 "nbformat": 4,
 "nbformat_minor": 4
}
